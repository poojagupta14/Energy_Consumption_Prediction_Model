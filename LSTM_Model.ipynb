{
  "nbformat": 4,
  "nbformat_minor": 0,
  "metadata": {
    "colab": {
      "name": "LSTM_Model.ipynb",
      "provenance": [],
      "authorship_tag": "ABX9TyO9WeD5j7WFy7fMLROemXL4",
      "include_colab_link": true
    },
    "kernelspec": {
      "name": "python3",
      "display_name": "Python 3"
    },
    "language_info": {
      "name": "python"
    }
  },
  "cells": [
    {
      "cell_type": "markdown",
      "metadata": {
        "id": "view-in-github",
        "colab_type": "text"
      },
      "source": [
        "<a href=\"https://colab.research.google.com/github/poojagupta14/Energy_Consumption_Prediction_Model/blob/main/LSTM_Model.ipynb\" target=\"_parent\"><img src=\"https://colab.research.google.com/assets/colab-badge.svg\" alt=\"Open In Colab\"/></a>"
      ]
    },
    {
      "cell_type": "code",
      "metadata": {
        "id": "dXhfT71wIesR"
      },
      "source": [
        "import pandas as pd\n",
        "import numpy as np\n",
        "import matplotlib.pyplot as plt\n",
        "import seaborn as sns\n",
        "import pprint\n",
        "%matplotlib inline"
      ],
      "execution_count": 1,
      "outputs": []
    },
    {
      "cell_type": "code",
      "metadata": {
        "colab": {
          "base_uri": "https://localhost:8080/"
        },
        "id": "EJvsIrh3I2ce",
        "outputId": "940c7bbe-1605-4d4e-b4be-89b42433f3c4"
      },
      "source": [
        "from google.colab import drive\n",
        "drive.mount('/content/drive')"
      ],
      "execution_count": 2,
      "outputs": [
        {
          "output_type": "stream",
          "text": [
            "Mounted at /content/drive\n"
          ],
          "name": "stdout"
        }
      ]
    },
    {
      "cell_type": "code",
      "metadata": {
        "id": "qTx0jC7hKs0I"
      },
      "source": [
        "copied_path = 'drive/MyDrive/AEP_hourly.csv' \n",
        "df = pd.read_csv(copied_path)"
      ],
      "execution_count": 49,
      "outputs": []
    },
    {
      "cell_type": "code",
      "metadata": {
        "colab": {
          "base_uri": "https://localhost:8080/",
          "height": 165
        },
        "id": "NLN6bsQpMhvn",
        "outputId": "9ed0ce4a-84ed-46ae-d276-0b7d7b4bb0bf"
      },
      "source": [
        "# To extract all data like Year MOnth Day Time etc.\n",
        "\n",
        "df[\"Month\"] = pd.to_datetime(df[\"Datetime\"]).dt.month\n",
        "df[\"Year\"] = pd.to_datetime(df[\"Datetime\"]).dt.year\n",
        "df[\"Date\"] = pd.to_datetime(df[\"Datetime\"]).dt.date\n",
        "df[\"Time\"] = pd.to_datetime(df[\"Datetime\"]).dt.time\n",
        "df[\"Week\"] = pd.to_datetime(df[\"Datetime\"]).dt.week\n",
        "df[\"Day\"] = pd.to_datetime(df[\"Datetime\"]).dt.day_name()\n",
        "df = df.set_index(\"Datetime\")\n",
        "df.index = pd.to_datetime(df.index)\n",
        "df.head(1)"
      ],
      "execution_count": 50,
      "outputs": [
        {
          "output_type": "stream",
          "text": [
            "/usr/local/lib/python3.7/dist-packages/ipykernel_launcher.py:7: FutureWarning: Series.dt.weekofyear and Series.dt.week have been deprecated.  Please use Series.dt.isocalendar().week instead.\n",
            "  import sys\n"
          ],
          "name": "stderr"
        },
        {
          "output_type": "execute_result",
          "data": {
            "text/html": [
              "<div>\n",
              "<style scoped>\n",
              "    .dataframe tbody tr th:only-of-type {\n",
              "        vertical-align: middle;\n",
              "    }\n",
              "\n",
              "    .dataframe tbody tr th {\n",
              "        vertical-align: top;\n",
              "    }\n",
              "\n",
              "    .dataframe thead th {\n",
              "        text-align: right;\n",
              "    }\n",
              "</style>\n",
              "<table border=\"1\" class=\"dataframe\">\n",
              "  <thead>\n",
              "    <tr style=\"text-align: right;\">\n",
              "      <th></th>\n",
              "      <th>AEP_MW</th>\n",
              "      <th>Month</th>\n",
              "      <th>Year</th>\n",
              "      <th>Date</th>\n",
              "      <th>Time</th>\n",
              "      <th>Week</th>\n",
              "      <th>Day</th>\n",
              "    </tr>\n",
              "    <tr>\n",
              "      <th>Datetime</th>\n",
              "      <th></th>\n",
              "      <th></th>\n",
              "      <th></th>\n",
              "      <th></th>\n",
              "      <th></th>\n",
              "      <th></th>\n",
              "      <th></th>\n",
              "    </tr>\n",
              "  </thead>\n",
              "  <tbody>\n",
              "    <tr>\n",
              "      <th>2004-12-31 01:00:00</th>\n",
              "      <td>13478.0</td>\n",
              "      <td>12</td>\n",
              "      <td>2004</td>\n",
              "      <td>2004-12-31</td>\n",
              "      <td>01:00:00</td>\n",
              "      <td>53</td>\n",
              "      <td>Friday</td>\n",
              "    </tr>\n",
              "  </tbody>\n",
              "</table>\n",
              "</div>"
            ],
            "text/plain": [
              "                      AEP_MW  Month  Year        Date      Time  Week     Day\n",
              "Datetime                                                                     \n",
              "2004-12-31 01:00:00  13478.0     12  2004  2004-12-31  01:00:00    53  Friday"
            ]
          },
          "metadata": {},
          "execution_count": 50
        }
      ]
    },
    {
      "cell_type": "code",
      "metadata": {
        "id": "qtHlU-opZYnZ"
      },
      "source": [
        "df.index = pd.to_datetime(df.index)\n",
        "df = df.sort_index()"
      ],
      "execution_count": 12,
      "outputs": []
    },
    {
      "cell_type": "code",
      "metadata": {
        "colab": {
          "base_uri": "https://localhost:8080/"
        },
        "id": "i24czCmQbStE",
        "outputId": "d0e2e9a2-3f0b-4e56-d212-ea2dc04bc731"
      },
      "source": [
        "# Resampling data\n",
        "dfNew = df.resample('D').mean()\n",
        "print(\"Old Dataset \",df.shape )\n",
        "print(\"New  Dataset \",dfNew.shape )"
      ],
      "execution_count": 19,
      "outputs": [
        {
          "output_type": "stream",
          "text": [
            "Old Dataset  (121273, 7)\n",
            "New  Dataset  (5055, 4)\n"
          ],
          "name": "stdout"
        }
      ]
    },
    {
      "cell_type": "code",
      "metadata": {
        "colab": {
          "base_uri": "https://localhost:8080/"
        },
        "id": "GDuuXQLhbfAg",
        "outputId": "5925d0a9-99ca-479d-d72e-d7622b478767"
      },
      "source": [
        "test_data = dfNew.tail(100)\n",
        "\n",
        "train_data = dfNew.iloc[:,0:1]\n",
        "\n",
        "train_data = train_data[:-60]\n",
        "\n",
        "print(\"Training Data Shape \", train_data.shape)\n",
        "print(\"Testing Data Shape \", test_data.shape)"
      ],
      "execution_count": 21,
      "outputs": [
        {
          "output_type": "stream",
          "text": [
            "Training Data Shape  (4995, 1)\n",
            "Testing Data Shape  (100, 4)\n"
          ],
          "name": "stdout"
        }
      ]
    },
    {
      "cell_type": "code",
      "metadata": {
        "colab": {
          "base_uri": "https://localhost:8080/"
        },
        "id": "Kev7NSq-d9DA",
        "outputId": "b4e6a642-28f0-4cae-a831-6e95d0037938"
      },
      "source": [
        "type(train_data.values)"
      ],
      "execution_count": 23,
      "outputs": [
        {
          "output_type": "execute_result",
          "data": {
            "text/plain": [
              "numpy.ndarray"
            ]
          },
          "metadata": {},
          "execution_count": 23
        }
      ]
    },
    {
      "cell_type": "code",
      "metadata": {
        "id": "4q4-kdFMcB2x"
      },
      "source": [
        "from sklearn.preprocessing import MinMaxScaler\n",
        "sc = MinMaxScaler(feature_range=(0, 1))\n",
        "train_data = sc.fit_transform(train_data)"
      ],
      "execution_count": 26,
      "outputs": []
    },
    {
      "cell_type": "code",
      "metadata": {
        "colab": {
          "base_uri": "https://localhost:8080/"
        },
        "id": "E1G0HTzjeSwh",
        "outputId": "27e8ac93-6aca-400b-aaac-7a31dbbb72de"
      },
      "source": [
        "X_Train = []\n",
        "Y_Train = []\n",
        "\n",
        "# Range should be fromm 60 values to end\n",
        "for i in range(60, train_data.shape[0]):\n",
        "    \n",
        "    # X_Train 0-59 \n",
        "    X_Train.append(train_data[i-60:i])\n",
        "    \n",
        "    # Y would be 60th value based on past 60 values \n",
        "    Y_Train.append(train_data[i])\n",
        "\n",
        "# Convert into Numpy Array\n",
        "X_Train = np.array(X_Train)\n",
        "Y_Train = np.array(Y_Train)\n",
        "\n",
        "print(X_Train.shape)\n",
        "print(Y_Train.shape)"
      ],
      "execution_count": 28,
      "outputs": [
        {
          "output_type": "stream",
          "text": [
            "(4935, 60, 1)\n",
            "(4935, 1)\n"
          ],
          "name": "stdout"
        }
      ]
    },
    {
      "cell_type": "code",
      "metadata": {
        "colab": {
          "base_uri": "https://localhost:8080/"
        },
        "id": "RYu-IqyFeZh-",
        "outputId": "6a5defef-e5e5-4fbb-fccb-4a64ba374e88"
      },
      "source": [
        "# Shape will be number of (datapoints , steps , 1 )\n",
        "# We convert into 3-d Vector or #rd dimesnsion\n",
        "X_Train = np.reshape(X_Train, newshape=(X_Train.shape[0], X_Train.shape[1], 1))\n",
        "X_Train.shape"
      ],
      "execution_count": 29,
      "outputs": [
        {
          "output_type": "execute_result",
          "data": {
            "text/plain": [
              "(4935, 60, 1)"
            ]
          },
          "metadata": {},
          "execution_count": 29
        }
      ]
    },
    {
      "cell_type": "code",
      "metadata": {
        "id": "PKSnCeJHelnN"
      },
      "source": [
        "# Model\n",
        "from tensorflow import keras\n",
        "from tensorflow.keras import layers\n",
        "from keras.layers.core import Dense, Activation, Dropout\n",
        "from keras.layers.recurrent import LSTM\n",
        "from keras.models import Sequential"
      ],
      "execution_count": 30,
      "outputs": []
    },
    {
      "cell_type": "code",
      "metadata": {
        "id": "6eBRVYJ6e97W"
      },
      "source": [
        "regressor = Sequential()\n",
        "\n",
        "# Adding the first LSTM layer and some Dropout regularisation\n",
        "regressor.add(LSTM(units = 50, return_sequences = True, input_shape = (X_Train.shape[1], 1)))\n",
        "regressor.add(Dropout(0.2))\n",
        "\n",
        "# Adding a second LSTM layer and some Dropout regularisation\n",
        "regressor.add(LSTM(units = 50, return_sequences = True))\n",
        "regressor.add(Dropout(0.2))\n",
        "\n",
        "# Adding a third LSTM layer and some Dropout regularisation\n",
        "regressor.add(LSTM(units = 50, return_sequences = True))\n",
        "regressor.add(Dropout(0.2))\n",
        "\n",
        "# Adding a fourth LSTM layer and some Dropout regularisation\n",
        "regressor.add(LSTM(units = 50))\n",
        "regressor.add(Dropout(0.2))\n",
        "\n",
        "# Adding the output layer\n",
        "regressor.add(Dense(units = 1))\n",
        "\n",
        "# Compiling the RNN\n",
        "regressor.compile(optimizer = 'adam', loss = 'mean_squared_error')"
      ],
      "execution_count": 31,
      "outputs": []
    },
    {
      "cell_type": "code",
      "metadata": {
        "colab": {
          "base_uri": "https://localhost:8080/"
        },
        "id": "-E9CxhfVfE-s",
        "outputId": "f308d9cd-613c-4f75-98fe-b751fe67c9fa"
      },
      "source": [
        "regressor.fit(X_Train, Y_Train, epochs = 50, batch_size = 32)"
      ],
      "execution_count": 32,
      "outputs": [
        {
          "output_type": "stream",
          "text": [
            "Epoch 1/50\n",
            "155/155 [==============================] - 51s 263ms/step - loss: 0.0227\n",
            "Epoch 2/50\n",
            "155/155 [==============================] - 41s 262ms/step - loss: 0.0182\n",
            "Epoch 3/50\n",
            "155/155 [==============================] - 41s 265ms/step - loss: 0.0167\n",
            "Epoch 4/50\n",
            "155/155 [==============================] - 41s 262ms/step - loss: 0.0162\n",
            "Epoch 5/50\n",
            "155/155 [==============================] - 41s 266ms/step - loss: 0.0159\n",
            "Epoch 6/50\n",
            "155/155 [==============================] - 41s 264ms/step - loss: 0.0149\n",
            "Epoch 7/50\n",
            "155/155 [==============================] - 40s 260ms/step - loss: 0.0142\n",
            "Epoch 8/50\n",
            "155/155 [==============================] - 41s 262ms/step - loss: 0.0116\n",
            "Epoch 9/50\n",
            "155/155 [==============================] - 40s 261ms/step - loss: 0.0099\n",
            "Epoch 10/50\n",
            "155/155 [==============================] - 40s 261ms/step - loss: 0.0091\n",
            "Epoch 11/50\n",
            "155/155 [==============================] - 41s 264ms/step - loss: 0.0086\n",
            "Epoch 12/50\n",
            "155/155 [==============================] - 41s 261ms/step - loss: 0.0082\n",
            "Epoch 13/50\n",
            "155/155 [==============================] - 41s 262ms/step - loss: 0.0079\n",
            "Epoch 14/50\n",
            "155/155 [==============================] - 41s 262ms/step - loss: 0.0077\n",
            "Epoch 15/50\n",
            "155/155 [==============================] - 41s 264ms/step - loss: 0.0075\n",
            "Epoch 16/50\n",
            "155/155 [==============================] - 41s 264ms/step - loss: 0.0076\n",
            "Epoch 17/50\n",
            "155/155 [==============================] - 40s 261ms/step - loss: 0.0074\n",
            "Epoch 18/50\n",
            "155/155 [==============================] - 41s 261ms/step - loss: 0.0071\n",
            "Epoch 19/50\n",
            "155/155 [==============================] - 41s 263ms/step - loss: 0.0069\n",
            "Epoch 20/50\n",
            "155/155 [==============================] - 40s 260ms/step - loss: 0.0070\n",
            "Epoch 21/50\n",
            "155/155 [==============================] - 41s 266ms/step - loss: 0.0066\n",
            "Epoch 22/50\n",
            "155/155 [==============================] - 41s 265ms/step - loss: 0.0061\n",
            "Epoch 23/50\n",
            "155/155 [==============================] - 40s 260ms/step - loss: 0.0059\n",
            "Epoch 24/50\n",
            "155/155 [==============================] - 40s 261ms/step - loss: 0.0057\n",
            "Epoch 25/50\n",
            "155/155 [==============================] - 40s 261ms/step - loss: 0.0056\n",
            "Epoch 26/50\n",
            "155/155 [==============================] - 41s 265ms/step - loss: 0.0053\n",
            "Epoch 27/50\n",
            "155/155 [==============================] - 41s 265ms/step - loss: 0.0054\n",
            "Epoch 28/50\n",
            "155/155 [==============================] - 41s 262ms/step - loss: 0.0051\n",
            "Epoch 29/50\n",
            "155/155 [==============================] - 40s 260ms/step - loss: 0.0051\n",
            "Epoch 30/50\n",
            "155/155 [==============================] - 40s 261ms/step - loss: 0.0050\n",
            "Epoch 31/50\n",
            "155/155 [==============================] - 40s 260ms/step - loss: 0.0049\n",
            "Epoch 32/50\n",
            "155/155 [==============================] - 40s 261ms/step - loss: 0.0050\n",
            "Epoch 33/50\n",
            "155/155 [==============================] - 41s 262ms/step - loss: 0.0048\n",
            "Epoch 34/50\n",
            "155/155 [==============================] - 40s 260ms/step - loss: 0.0047\n",
            "Epoch 35/50\n",
            "155/155 [==============================] - 41s 265ms/step - loss: 0.0047\n",
            "Epoch 36/50\n",
            "155/155 [==============================] - 41s 262ms/step - loss: 0.0046\n",
            "Epoch 37/50\n",
            "155/155 [==============================] - 41s 262ms/step - loss: 0.0047\n",
            "Epoch 38/50\n",
            "155/155 [==============================] - 40s 259ms/step - loss: 0.0047\n",
            "Epoch 39/50\n",
            "155/155 [==============================] - 40s 260ms/step - loss: 0.0045\n",
            "Epoch 40/50\n",
            "155/155 [==============================] - 41s 265ms/step - loss: 0.0045\n",
            "Epoch 41/50\n",
            "155/155 [==============================] - 40s 260ms/step - loss: 0.0044\n",
            "Epoch 42/50\n",
            "155/155 [==============================] - 40s 259ms/step - loss: 0.0048\n",
            "Epoch 43/50\n",
            "155/155 [==============================] - 41s 266ms/step - loss: 0.0044\n",
            "Epoch 44/50\n",
            "155/155 [==============================] - 40s 261ms/step - loss: 0.0044\n",
            "Epoch 45/50\n",
            "155/155 [==============================] - 40s 260ms/step - loss: 0.0045\n",
            "Epoch 46/50\n",
            "155/155 [==============================] - 40s 261ms/step - loss: 0.0044\n",
            "Epoch 47/50\n",
            "155/155 [==============================] - 40s 258ms/step - loss: 0.0043\n",
            "Epoch 48/50\n",
            "155/155 [==============================] - 40s 259ms/step - loss: 0.0043\n",
            "Epoch 49/50\n",
            "155/155 [==============================] - 40s 260ms/step - loss: 0.0044\n",
            "Epoch 50/50\n",
            "155/155 [==============================] - 40s 261ms/step - loss: 0.0043\n"
          ],
          "name": "stdout"
        },
        {
          "output_type": "execute_result",
          "data": {
            "text/plain": [
              "<keras.callbacks.History at 0x7f275fd3d910>"
            ]
          },
          "metadata": {},
          "execution_count": 32
        }
      ]
    },
    {
      "cell_type": "code",
      "metadata": {
        "colab": {
          "base_uri": "https://localhost:8080/",
          "height": 235
        },
        "id": "ez-T1HyOiy8O",
        "outputId": "74b23c8c-9a3c-443a-9674-ff9e607ec00c"
      },
      "source": [
        "test_data.head()"
      ],
      "execution_count": 33,
      "outputs": [
        {
          "output_type": "execute_result",
          "data": {
            "text/html": [
              "<div>\n",
              "<style scoped>\n",
              "    .dataframe tbody tr th:only-of-type {\n",
              "        vertical-align: middle;\n",
              "    }\n",
              "\n",
              "    .dataframe tbody tr th {\n",
              "        vertical-align: top;\n",
              "    }\n",
              "\n",
              "    .dataframe thead th {\n",
              "        text-align: right;\n",
              "    }\n",
              "</style>\n",
              "<table border=\"1\" class=\"dataframe\">\n",
              "  <thead>\n",
              "    <tr style=\"text-align: right;\">\n",
              "      <th></th>\n",
              "      <th>AEP_MW</th>\n",
              "      <th>Month</th>\n",
              "      <th>Year</th>\n",
              "      <th>Week</th>\n",
              "    </tr>\n",
              "    <tr>\n",
              "      <th>Datetime</th>\n",
              "      <th></th>\n",
              "      <th></th>\n",
              "      <th></th>\n",
              "      <th></th>\n",
              "    </tr>\n",
              "  </thead>\n",
              "  <tbody>\n",
              "    <tr>\n",
              "      <th>2018-04-26</th>\n",
              "      <td>13157.791667</td>\n",
              "      <td>4</td>\n",
              "      <td>2018</td>\n",
              "      <td>17</td>\n",
              "    </tr>\n",
              "    <tr>\n",
              "      <th>2018-04-27</th>\n",
              "      <td>12964.000000</td>\n",
              "      <td>4</td>\n",
              "      <td>2018</td>\n",
              "      <td>17</td>\n",
              "    </tr>\n",
              "    <tr>\n",
              "      <th>2018-04-28</th>\n",
              "      <td>12237.583333</td>\n",
              "      <td>4</td>\n",
              "      <td>2018</td>\n",
              "      <td>17</td>\n",
              "    </tr>\n",
              "    <tr>\n",
              "      <th>2018-04-29</th>\n",
              "      <td>12156.791667</td>\n",
              "      <td>4</td>\n",
              "      <td>2018</td>\n",
              "      <td>17</td>\n",
              "    </tr>\n",
              "    <tr>\n",
              "      <th>2018-04-30</th>\n",
              "      <td>13443.500000</td>\n",
              "      <td>4</td>\n",
              "      <td>2018</td>\n",
              "      <td>18</td>\n",
              "    </tr>\n",
              "  </tbody>\n",
              "</table>\n",
              "</div>"
            ],
            "text/plain": [
              "                  AEP_MW  Month  Year  Week\n",
              "Datetime                                   \n",
              "2018-04-26  13157.791667      4  2018    17\n",
              "2018-04-27  12964.000000      4  2018    17\n",
              "2018-04-28  12237.583333      4  2018    17\n",
              "2018-04-29  12156.791667      4  2018    17\n",
              "2018-04-30  13443.500000      4  2018    18"
            ]
          },
          "metadata": {},
          "execution_count": 33
        }
      ]
    },
    {
      "cell_type": "code",
      "metadata": {
        "colab": {
          "base_uri": "https://localhost:8080/"
        },
        "id": "CXITqq69i--u",
        "outputId": "d0c7bd0b-991f-4430-ff74-3ada319fac8e"
      },
      "source": [
        "test_data.shape"
      ],
      "execution_count": 34,
      "outputs": [
        {
          "output_type": "execute_result",
          "data": {
            "text/plain": [
              "(100, 4)"
            ]
          },
          "metadata": {},
          "execution_count": 34
        }
      ]
    },
    {
      "cell_type": "code",
      "metadata": {
        "colab": {
          "base_uri": "https://localhost:8080/"
        },
        "id": "VMy13rhTjWTm",
        "outputId": "0d774738-55c7-4ac7-b572-eca8a6cae516"
      },
      "source": [
        "dfNew.shape"
      ],
      "execution_count": 36,
      "outputs": [
        {
          "output_type": "execute_result",
          "data": {
            "text/plain": [
              "(5055, 4)"
            ]
          },
          "metadata": {},
          "execution_count": 36
        }
      ]
    },
    {
      "cell_type": "code",
      "metadata": {
        "colab": {
          "base_uri": "https://localhost:8080/"
        },
        "id": "YHaK3Hr7jZLd",
        "outputId": "26c667e6-9ac6-43ec-b7c2-8bb5d240769b"
      },
      "source": [
        "data = pd.concat((dfNew[[\"AEP_MW\"]], test_data[[\"AEP_MW\"]]), axis=0)\n",
        "data.shape"
      ],
      "execution_count": 39,
      "outputs": [
        {
          "output_type": "execute_result",
          "data": {
            "text/plain": [
              "(5155, 1)"
            ]
          },
          "metadata": {},
          "execution_count": 39
        }
      ]
    },
    {
      "cell_type": "code",
      "metadata": {
        "colab": {
          "base_uri": "https://localhost:8080/"
        },
        "id": "BS3YISoQjd8F",
        "outputId": "4e8f6e91-cc66-4e96-e728-d2c8dc076a62"
      },
      "source": [
        "input = data[len(data) - len(test_data) - 60:].values\n",
        "input.shape"
      ],
      "execution_count": 41,
      "outputs": [
        {
          "output_type": "execute_result",
          "data": {
            "text/plain": [
              "(160, 1)"
            ]
          },
          "metadata": {},
          "execution_count": 41
        }
      ]
    },
    {
      "cell_type": "code",
      "metadata": {
        "id": "Kuz1gOm0jjTn"
      },
      "source": [
        "input = data[len(data) - len(test_data) - 60:].values\n",
        "\n",
        "# We need to Reshape\n",
        "input = input.reshape(-1,1)\n",
        "\n",
        "# Normalize the Dataset\n",
        "input = sc.transform(input)\n",
        "\n",
        "X_test = []\n",
        "for i in range(60, 160):\n",
        "    X_test.append(input[i-60:i])\n",
        "    \n",
        "# Convert into Numpy Array\n",
        "X_test = np.array(X_test)\n",
        "\n",
        "# Reshape before Passing to Network\n",
        "X_test = np.reshape(X_test, (X_test.shape[0], X_test.shape[1], 1))\n",
        "\n",
        "# Pass to Model \n",
        "predicted_stock_price = regressor.predict(X_test)\n",
        "\n",
        "# Do inverse Transformation to get Values \n",
        "predicted_stock_price = sc.inverse_transform(predicted_stock_price)"
      ],
      "execution_count": 42,
      "outputs": []
    },
    {
      "cell_type": "code",
      "metadata": {
        "id": "MDQ2-VXBjpjC"
      },
      "source": [
        "True_MegaWatt = test_data[\"AEP_MW\"].to_list()\n",
        "Predicted_MegaWatt  = predicted_stock_price\n",
        "dates = test_data.index.to_list()"
      ],
      "execution_count": 44,
      "outputs": []
    },
    {
      "cell_type": "code",
      "metadata": {
        "id": "jUhJ97Fnjt_6"
      },
      "source": [
        "Df = pd.DataFrame(data={\"Date\":dates, \"TrueMegaWatt\":True_MegaWatt, \"PredictedMeagWatt\":[x[0] for x in Predicted_MegaWatt]})"
      ],
      "execution_count": 45,
      "outputs": []
    },
    {
      "cell_type": "code",
      "metadata": {
        "colab": {
          "base_uri": "https://localhost:8080/",
          "height": 419
        },
        "id": "8lRXi0XxjwSh",
        "outputId": "33dff426-ca52-42b5-fd04-84ff1910ad17"
      },
      "source": [
        "Df"
      ],
      "execution_count": 46,
      "outputs": [
        {
          "output_type": "execute_result",
          "data": {
            "text/html": [
              "<div>\n",
              "<style scoped>\n",
              "    .dataframe tbody tr th:only-of-type {\n",
              "        vertical-align: middle;\n",
              "    }\n",
              "\n",
              "    .dataframe tbody tr th {\n",
              "        vertical-align: top;\n",
              "    }\n",
              "\n",
              "    .dataframe thead th {\n",
              "        text-align: right;\n",
              "    }\n",
              "</style>\n",
              "<table border=\"1\" class=\"dataframe\">\n",
              "  <thead>\n",
              "    <tr style=\"text-align: right;\">\n",
              "      <th></th>\n",
              "      <th>Date</th>\n",
              "      <th>TrueMegaWatt</th>\n",
              "      <th>PredictedMeagWatt</th>\n",
              "    </tr>\n",
              "  </thead>\n",
              "  <tbody>\n",
              "    <tr>\n",
              "      <th>0</th>\n",
              "      <td>2018-04-26</td>\n",
              "      <td>13157.791667</td>\n",
              "      <td>13724.773438</td>\n",
              "    </tr>\n",
              "    <tr>\n",
              "      <th>1</th>\n",
              "      <td>2018-04-27</td>\n",
              "      <td>12964.000000</td>\n",
              "      <td>13094.065430</td>\n",
              "    </tr>\n",
              "    <tr>\n",
              "      <th>2</th>\n",
              "      <td>2018-04-28</td>\n",
              "      <td>12237.583333</td>\n",
              "      <td>14945.481445</td>\n",
              "    </tr>\n",
              "    <tr>\n",
              "      <th>3</th>\n",
              "      <td>2018-04-29</td>\n",
              "      <td>12156.791667</td>\n",
              "      <td>13462.718750</td>\n",
              "    </tr>\n",
              "    <tr>\n",
              "      <th>4</th>\n",
              "      <td>2018-04-30</td>\n",
              "      <td>13443.500000</td>\n",
              "      <td>12950.017578</td>\n",
              "    </tr>\n",
              "    <tr>\n",
              "      <th>...</th>\n",
              "      <td>...</td>\n",
              "      <td>...</td>\n",
              "      <td>...</td>\n",
              "    </tr>\n",
              "    <tr>\n",
              "      <th>95</th>\n",
              "      <td>2018-07-30</td>\n",
              "      <td>15368.083333</td>\n",
              "      <td>15681.756836</td>\n",
              "    </tr>\n",
              "    <tr>\n",
              "      <th>96</th>\n",
              "      <td>2018-07-31</td>\n",
              "      <td>15180.291667</td>\n",
              "      <td>15707.306641</td>\n",
              "    </tr>\n",
              "    <tr>\n",
              "      <th>97</th>\n",
              "      <td>2018-08-01</td>\n",
              "      <td>15151.166667</td>\n",
              "      <td>15200.417969</td>\n",
              "    </tr>\n",
              "    <tr>\n",
              "      <th>98</th>\n",
              "      <td>2018-08-02</td>\n",
              "      <td>15687.666667</td>\n",
              "      <td>15332.129883</td>\n",
              "    </tr>\n",
              "    <tr>\n",
              "      <th>99</th>\n",
              "      <td>2018-08-03</td>\n",
              "      <td>14809.000000</td>\n",
              "      <td>15471.501953</td>\n",
              "    </tr>\n",
              "  </tbody>\n",
              "</table>\n",
              "<p>100 rows × 3 columns</p>\n",
              "</div>"
            ],
            "text/plain": [
              "         Date  TrueMegaWatt  PredictedMeagWatt\n",
              "0  2018-04-26  13157.791667       13724.773438\n",
              "1  2018-04-27  12964.000000       13094.065430\n",
              "2  2018-04-28  12237.583333       14945.481445\n",
              "3  2018-04-29  12156.791667       13462.718750\n",
              "4  2018-04-30  13443.500000       12950.017578\n",
              "..        ...           ...                ...\n",
              "95 2018-07-30  15368.083333       15681.756836\n",
              "96 2018-07-31  15180.291667       15707.306641\n",
              "97 2018-08-01  15151.166667       15200.417969\n",
              "98 2018-08-02  15687.666667       15332.129883\n",
              "99 2018-08-03  14809.000000       15471.501953\n",
              "\n",
              "[100 rows x 3 columns]"
            ]
          },
          "metadata": {},
          "execution_count": 46
        }
      ]
    },
    {
      "cell_type": "code",
      "metadata": {
        "id": "dYckvRhXj8kU"
      },
      "source": [
        "True_MegaWatt = test_data[\"AEP_MW\"].to_list()\n",
        "Predicted_MegaWatt  = [x[0] for x in Predicted_MegaWatt ]\n",
        "dates = test_data.index.to_list()"
      ],
      "execution_count": 47,
      "outputs": []
    },
    {
      "cell_type": "code",
      "metadata": {
        "id": "pdWO0_4Rj-67",
        "colab": {
          "base_uri": "https://localhost:8080/",
          "height": 541
        },
        "outputId": "4aa8b5bb-1204-4951-fee5-55b1e0e85c91"
      },
      "source": [
        "fig = plt.figure()\n",
        "\n",
        "ax1= fig.add_subplot(111)\n",
        "\n",
        "x = dates\n",
        "y = True_MegaWatt\n",
        "\n",
        "y1 = Predicted_MegaWatt\n",
        "\n",
        "plt.plot(x,y, color=\"green\")\n",
        "plt.plot(x,y1, color=\"red\")\n",
        "plt.gcf().autofmt_xdate()\n",
        "plt.xlabel('Dates')\n",
        "plt.ylabel(\"Power in MW\")\n",
        "plt.title(\"Prediction Model Output (Actual Green lines v/s Predicted Red lines)\")\n",
        "plt.legend()"
      ],
      "execution_count": 48,
      "outputs": [
        {
          "output_type": "stream",
          "text": [
            "No handles with labels found to put in legend.\n"
          ],
          "name": "stderr"
        },
        {
          "output_type": "execute_result",
          "data": {
            "text/plain": [
              "<matplotlib.legend.Legend at 0x7f275f99bb10>"
            ]
          },
          "metadata": {},
          "execution_count": 48
        },
        {
          "output_type": "display_data",
          "data": {
            "image/png": "[encoded data removed]",
            "text/plain": [
              "<Figure size 1296x576 with 1 Axes>"
            ]
          },
          "metadata": {}
        }
      ]
    }
  ]
}